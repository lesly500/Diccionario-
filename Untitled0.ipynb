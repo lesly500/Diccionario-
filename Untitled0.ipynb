{
  "nbformat": 4,
  "nbformat_minor": 0,
  "metadata": {
    "colab": {
      "provenance": [],
      "authorship_tag": "ABX9TyOHHldbLn6TEgog9w7k2Xl2",
      "include_colab_link": true
    },
    "kernelspec": {
      "name": "python3",
      "display_name": "Python 3"
    },
    "language_info": {
      "name": "python"
    }
  },
  "cells": [
    {
      "cell_type": "markdown",
      "metadata": {
        "id": "view-in-github",
        "colab_type": "text"
      },
      "source": [
        "<a href=\"https://colab.research.google.com/github/lesly500/Diccionario-/blob/main/Untitled0.ipynb\" target=\"_parent\"><img src=\"https://colab.research.google.com/assets/colab-badge.svg\" alt=\"Open In Colab\"/></a>"
      ]
    },
    {
      "cell_type": "markdown",
      "source": [
        "## Diccionarios\n",
        "\n",
        "-Son datos estructurados, es decir, hacen referencia a una coleccion de datos.\n",
        "-son una coleccion desordenada de pares de dato de la forma clave:valor, conocidos como elementos items.\n",
        "- Son mutables, por tantos, una vez definido un diccionario se le pueden agregar nuevos elementos, modificar o eliminar algunos de los que ya no tiene.\n",
        "-Tambien se les conoce com mapa de hash o arreglos asociativos.\n",
        "-En Python los diccionarios son de tipo dict y se utiiza la siguiente sintaxis para crear una variable de este tipo:\n",
        "\n",
        "`nombre_dict = {clavel:valor1, clave2:valor2, ...}`\n",
        "\n",
        "-cada item o eemento tiene la forma clave:valor\n",
        "-en cada item hay una clav y uno o mas valores. si se desconoce el valor, se puede llenar con `None`\n",
        "- los elementos de dicciorio se indexan por la clave.\n",
        "-Las claves soo puedeser datos inmutables\n",
        "- Las claves no pueden repertirse dentro de un diccionario."
      ],
      "metadata": {
        "id": "TZMnJKhUptJk"
      }
    },
    {
      "cell_type": "code",
      "execution_count": null,
      "metadata": {
        "id": "r5isMYD-ppP7"
      },
      "outputs": [],
      "source": [
        "# Diccionario con clave tipo cadena\n",
        "\n",
        "num_meses = {'enero':1, 'febrero':2, 'marzo':3, 'abril':4, 'mayo':5, 'junio':6, 'julio':7, 'agosto':8, 'septiembre':9, 'octubre':10, 'noviembre':11, 'diciembre':12}\n",
        "print(num_meses)\n",
        "\n",
        "nombre_meses = {1:'enero', 2:'febrero', 3:'marzo', 4:'abril', 5:'mayo', 6:'junio', 7:'julio', 8:'agosto', 9:'septiembre', 10:'octubre', 11:'noviembre', 12:'diciembre}\n",
        "print(nombre_meses)\n",
        "\n",
        "\n",
        " frutas = ['manzana']"
      ]
    }
  ]
}